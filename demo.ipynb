{
 "cells": [
  {
   "cell_type": "code",
   "execution_count": null,
   "id": "4f8d2663",
   "metadata": {},
   "outputs": [],
   "source": [
    "from openai import AsyncOpenAI\n",
    "import asyncio\n",
    "import os \n",
    "from dotenv import load_dotenv\n",
    "async def main():\n",
    "    client = AsyncOpenAI(\n",
    "        base_url=\"https://api.sambanova.ai/v1\", \n",
    "        api_key=os.getenv(\"SAMBANOVA_API_KEY\")\n",
    "    )\n",
    "    completion = await client.chat.completions.create(\n",
    "        model=\"Meta-Llama-3.1-8B-Instruct\",\n",
    "        messages = [\n",
    "            {\"role\": \"system\", \"content\": \"Answer the question in a couple sentences.\"},\n",
    "            {\"role\": \"user\", \"content\": \"Share a happy story with me\"}\n",
    "        ]\n",
    "    )\n",
    "    print(completion.choices[0].message.content)\n",
    "asyncio.run(main())"
   ]
  },
  {
   "cell_type": "code",
   "execution_count": null,
   "id": "7301e786",
   "metadata": {},
   "outputs": [],
   "source": []
  }
 ],
 "metadata": {
  "kernelspec": {
   "display_name": "nova",
   "language": "python",
   "name": "python3"
  },
  "language_info": {
   "name": "python",
   "version": "3.8.20"
  }
 },
 "nbformat": 4,
 "nbformat_minor": 5
}
